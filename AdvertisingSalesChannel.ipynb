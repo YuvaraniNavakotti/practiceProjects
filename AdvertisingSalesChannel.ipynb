{
 "cells": [
  {
   "cell_type": "markdown",
   "id": "e35213fd",
   "metadata": {},
   "source": [
    "# Advertising Sales Channel Prediction"
   ]
  },
  {
   "cell_type": "markdown",
   "id": "bf68dca7",
   "metadata": {},
   "source": [
    "Importing all the libraries"
   ]
  },
  {
   "cell_type": "code",
   "execution_count": 167,
   "id": "a83549ab",
   "metadata": {},
   "outputs": [],
   "source": [
    "import pandas as pd\n",
    "import numpy as np\n",
    "import matplotlib.pyplot as plt\n",
    "import seaborn as sns\n",
    "from sklearn.model_selection import train_test_split\n",
    "from sklearn.preprocessing import StandardScaler\n",
    "import warnings\n",
    "warnings.filterwarnings('ignore')"
   ]
  },
  {
   "cell_type": "markdown",
   "id": "39f92bde",
   "metadata": {},
   "source": [
    "Reading the data set"
   ]
  },
  {
   "cell_type": "code",
   "execution_count": 168,
   "id": "6ea14bef",
   "metadata": {},
   "outputs": [
    {
     "data": {
      "text/html": [
       "<div>\n",
       "<style scoped>\n",
       "    .dataframe tbody tr th:only-of-type {\n",
       "        vertical-align: middle;\n",
       "    }\n",
       "\n",
       "    .dataframe tbody tr th {\n",
       "        vertical-align: top;\n",
       "    }\n",
       "\n",
       "    .dataframe thead th {\n",
       "        text-align: right;\n",
       "    }\n",
       "</style>\n",
       "<table border=\"1\" class=\"dataframe\">\n",
       "  <thead>\n",
       "    <tr style=\"text-align: right;\">\n",
       "      <th></th>\n",
       "      <th>Unnamed: 0</th>\n",
       "      <th>TV</th>\n",
       "      <th>radio</th>\n",
       "      <th>newspaper</th>\n",
       "      <th>sales</th>\n",
       "    </tr>\n",
       "  </thead>\n",
       "  <tbody>\n",
       "    <tr>\n",
       "      <th>0</th>\n",
       "      <td>1</td>\n",
       "      <td>230.1</td>\n",
       "      <td>37.8</td>\n",
       "      <td>69.2</td>\n",
       "      <td>22.1</td>\n",
       "    </tr>\n",
       "    <tr>\n",
       "      <th>1</th>\n",
       "      <td>2</td>\n",
       "      <td>44.5</td>\n",
       "      <td>39.3</td>\n",
       "      <td>45.1</td>\n",
       "      <td>10.4</td>\n",
       "    </tr>\n",
       "    <tr>\n",
       "      <th>2</th>\n",
       "      <td>3</td>\n",
       "      <td>17.2</td>\n",
       "      <td>45.9</td>\n",
       "      <td>69.3</td>\n",
       "      <td>9.3</td>\n",
       "    </tr>\n",
       "    <tr>\n",
       "      <th>3</th>\n",
       "      <td>4</td>\n",
       "      <td>151.5</td>\n",
       "      <td>41.3</td>\n",
       "      <td>58.5</td>\n",
       "      <td>18.5</td>\n",
       "    </tr>\n",
       "    <tr>\n",
       "      <th>4</th>\n",
       "      <td>5</td>\n",
       "      <td>180.8</td>\n",
       "      <td>10.8</td>\n",
       "      <td>58.4</td>\n",
       "      <td>12.9</td>\n",
       "    </tr>\n",
       "    <tr>\n",
       "      <th>...</th>\n",
       "      <td>...</td>\n",
       "      <td>...</td>\n",
       "      <td>...</td>\n",
       "      <td>...</td>\n",
       "      <td>...</td>\n",
       "    </tr>\n",
       "    <tr>\n",
       "      <th>195</th>\n",
       "      <td>196</td>\n",
       "      <td>38.2</td>\n",
       "      <td>3.7</td>\n",
       "      <td>13.8</td>\n",
       "      <td>7.6</td>\n",
       "    </tr>\n",
       "    <tr>\n",
       "      <th>196</th>\n",
       "      <td>197</td>\n",
       "      <td>94.2</td>\n",
       "      <td>4.9</td>\n",
       "      <td>8.1</td>\n",
       "      <td>9.7</td>\n",
       "    </tr>\n",
       "    <tr>\n",
       "      <th>197</th>\n",
       "      <td>198</td>\n",
       "      <td>177.0</td>\n",
       "      <td>9.3</td>\n",
       "      <td>6.4</td>\n",
       "      <td>12.8</td>\n",
       "    </tr>\n",
       "    <tr>\n",
       "      <th>198</th>\n",
       "      <td>199</td>\n",
       "      <td>283.6</td>\n",
       "      <td>42.0</td>\n",
       "      <td>66.2</td>\n",
       "      <td>25.5</td>\n",
       "    </tr>\n",
       "    <tr>\n",
       "      <th>199</th>\n",
       "      <td>200</td>\n",
       "      <td>232.1</td>\n",
       "      <td>8.6</td>\n",
       "      <td>8.7</td>\n",
       "      <td>13.4</td>\n",
       "    </tr>\n",
       "  </tbody>\n",
       "</table>\n",
       "<p>200 rows × 5 columns</p>\n",
       "</div>"
      ],
      "text/plain": [
       "     Unnamed: 0     TV  radio  newspaper  sales\n",
       "0             1  230.1   37.8       69.2   22.1\n",
       "1             2   44.5   39.3       45.1   10.4\n",
       "2             3   17.2   45.9       69.3    9.3\n",
       "3             4  151.5   41.3       58.5   18.5\n",
       "4             5  180.8   10.8       58.4   12.9\n",
       "..          ...    ...    ...        ...    ...\n",
       "195         196   38.2    3.7       13.8    7.6\n",
       "196         197   94.2    4.9        8.1    9.7\n",
       "197         198  177.0    9.3        6.4   12.8\n",
       "198         199  283.6   42.0       66.2   25.5\n",
       "199         200  232.1    8.6        8.7   13.4\n",
       "\n",
       "[200 rows x 5 columns]"
      ]
     },
     "execution_count": 168,
     "metadata": {},
     "output_type": "execute_result"
    }
   ],
   "source": [
    "df=pd.read_csv('C:/Users/yn/Desktop/Yuvi/DataTrained/PracticeProjets/Advertising.csv')\n",
    "df"
   ]
  },
  {
   "cell_type": "markdown",
   "id": "1c6a2410",
   "metadata": {},
   "source": [
    "Droping the unnecessary column"
   ]
  },
  {
   "cell_type": "code",
   "execution_count": 169,
   "id": "bf465773",
   "metadata": {},
   "outputs": [],
   "source": [
    "df.drop(['Unnamed: 0'],axis=1,inplace=True)"
   ]
  },
  {
   "cell_type": "markdown",
   "id": "88c98c73",
   "metadata": {},
   "source": [
    "Finding null values"
   ]
  },
  {
   "cell_type": "code",
   "execution_count": 170,
   "id": "acaaf2b9",
   "metadata": {},
   "outputs": [
    {
     "data": {
      "text/plain": [
       "TV           0\n",
       "radio        0\n",
       "newspaper    0\n",
       "sales        0\n",
       "dtype: int64"
      ]
     },
     "execution_count": 170,
     "metadata": {},
     "output_type": "execute_result"
    }
   ],
   "source": [
    "df.isna().sum()"
   ]
  },
  {
   "cell_type": "code",
   "execution_count": 171,
   "id": "c01553b3",
   "metadata": {},
   "outputs": [
    {
     "data": {
      "text/html": [
       "<div>\n",
       "<style scoped>\n",
       "    .dataframe tbody tr th:only-of-type {\n",
       "        vertical-align: middle;\n",
       "    }\n",
       "\n",
       "    .dataframe tbody tr th {\n",
       "        vertical-align: top;\n",
       "    }\n",
       "\n",
       "    .dataframe thead th {\n",
       "        text-align: right;\n",
       "    }\n",
       "</style>\n",
       "<table border=\"1\" class=\"dataframe\">\n",
       "  <thead>\n",
       "    <tr style=\"text-align: right;\">\n",
       "      <th></th>\n",
       "      <th>TV</th>\n",
       "      <th>radio</th>\n",
       "      <th>newspaper</th>\n",
       "      <th>sales</th>\n",
       "    </tr>\n",
       "  </thead>\n",
       "  <tbody>\n",
       "    <tr>\n",
       "      <th>count</th>\n",
       "      <td>200.000000</td>\n",
       "      <td>200.000000</td>\n",
       "      <td>200.000000</td>\n",
       "      <td>200.000000</td>\n",
       "    </tr>\n",
       "    <tr>\n",
       "      <th>mean</th>\n",
       "      <td>147.042500</td>\n",
       "      <td>23.264000</td>\n",
       "      <td>30.554000</td>\n",
       "      <td>14.022500</td>\n",
       "    </tr>\n",
       "    <tr>\n",
       "      <th>std</th>\n",
       "      <td>85.854236</td>\n",
       "      <td>14.846809</td>\n",
       "      <td>21.778621</td>\n",
       "      <td>5.217457</td>\n",
       "    </tr>\n",
       "    <tr>\n",
       "      <th>min</th>\n",
       "      <td>0.700000</td>\n",
       "      <td>0.000000</td>\n",
       "      <td>0.300000</td>\n",
       "      <td>1.600000</td>\n",
       "    </tr>\n",
       "    <tr>\n",
       "      <th>25%</th>\n",
       "      <td>74.375000</td>\n",
       "      <td>9.975000</td>\n",
       "      <td>12.750000</td>\n",
       "      <td>10.375000</td>\n",
       "    </tr>\n",
       "    <tr>\n",
       "      <th>50%</th>\n",
       "      <td>149.750000</td>\n",
       "      <td>22.900000</td>\n",
       "      <td>25.750000</td>\n",
       "      <td>12.900000</td>\n",
       "    </tr>\n",
       "    <tr>\n",
       "      <th>75%</th>\n",
       "      <td>218.825000</td>\n",
       "      <td>36.525000</td>\n",
       "      <td>45.100000</td>\n",
       "      <td>17.400000</td>\n",
       "    </tr>\n",
       "    <tr>\n",
       "      <th>max</th>\n",
       "      <td>296.400000</td>\n",
       "      <td>49.600000</td>\n",
       "      <td>114.000000</td>\n",
       "      <td>27.000000</td>\n",
       "    </tr>\n",
       "  </tbody>\n",
       "</table>\n",
       "</div>"
      ],
      "text/plain": [
       "               TV       radio   newspaper       sales\n",
       "count  200.000000  200.000000  200.000000  200.000000\n",
       "mean   147.042500   23.264000   30.554000   14.022500\n",
       "std     85.854236   14.846809   21.778621    5.217457\n",
       "min      0.700000    0.000000    0.300000    1.600000\n",
       "25%     74.375000    9.975000   12.750000   10.375000\n",
       "50%    149.750000   22.900000   25.750000   12.900000\n",
       "75%    218.825000   36.525000   45.100000   17.400000\n",
       "max    296.400000   49.600000  114.000000   27.000000"
      ]
     },
     "execution_count": 171,
     "metadata": {},
     "output_type": "execute_result"
    }
   ],
   "source": [
    "df.describe()"
   ]
  },
  {
   "cell_type": "markdown",
   "id": "c7ca9474",
   "metadata": {},
   "source": [
    "Seems like newspaper has ouliers"
   ]
  },
  {
   "cell_type": "code",
   "execution_count": 172,
   "id": "8ea6aee4",
   "metadata": {},
   "outputs": [
    {
     "data": {
      "image/png": "[encoded data removed]",
      "text/plain": [
       "<Figure size 288x288 with 2 Axes>"
      ]
     },
     "metadata": {
      "needs_background": "light"
     },
     "output_type": "display_data"
    }
   ],
   "source": [
    "plt.figure(figsize=(4,4))\n",
    "sns.heatmap(df.corr().abs(),annot=True)\n",
    "plt.show()"
   ]
  },
  {
   "cell_type": "markdown",
   "id": "6c9e1ae6",
   "metadata": {},
   "source": [
    "TV is contributing 78% to predict the target Sales"
   ]
  },
  {
   "cell_type": "code",
   "execution_count": 204,
   "id": "ee44c7aa",
   "metadata": {},
   "outputs": [
    {
     "data": {
      "image/png": "[encoded data removed]",
      "text/plain": [
       "<Figure size 864x720 with 4 Axes>"
      ]
     },
     "metadata": {
      "needs_background": "light"
     },
     "output_type": "display_data"
    }
   ],
   "source": [
    "plt.figure(figsize=(12,10))\n",
    "pltno=1\n",
    "for col in df.columns:\n",
    "    ax=plt.subplot(2,3,pltno)\n",
    "    sns.scatterplot(x=df['sales'],y=df[col])\n",
    "    pltno+=1\n",
    "plt.show()"
   ]
  },
  {
   "cell_type": "markdown",
   "id": "1c563f17",
   "metadata": {},
   "source": [
    "1. we can see positive trend for TV and Sales also Radio and Sales.\n",
    "2. Could not see any trend for Newspaper"
   ]
  },
  {
   "cell_type": "code",
   "execution_count": 174,
   "id": "482d1ca6",
   "metadata": {},
   "outputs": [
    {
     "data": {
      "image/png": "[encoded data removed]",
      "text/plain": [
       "<Figure size 864x720 with 4 Axes>"
      ]
     },
     "metadata": {
      "needs_background": "light"
     },
     "output_type": "display_data"
    }
   ],
   "source": [
    "plt.figure(figsize=(12,10))\n",
    "pltno=1\n",
    "for col in df.columns:\n",
    "    ax=plt.subplot(2,3,pltno)\n",
    "    sns.distplot(df[col])\n",
    "    pltno+=1\n",
    "plt.show()"
   ]
  },
  {
   "cell_type": "markdown",
   "id": "23df59a4",
   "metadata": {},
   "source": [
    "All features are normally distributed"
   ]
  },
  {
   "cell_type": "code",
   "execution_count": 205,
   "id": "84f99075",
   "metadata": {},
   "outputs": [
    {
     "data": {
      "text/plain": [
       "TV          -0.069853\n",
       "radio        0.094175\n",
       "newspaper    0.894720\n",
       "sales        0.407571\n",
       "dtype: float64"
      ]
     },
     "execution_count": 205,
     "metadata": {},
     "output_type": "execute_result"
    }
   ],
   "source": [
    "df.skew()"
   ]
  },
  {
   "cell_type": "markdown",
   "id": "0037746a",
   "metadata": {},
   "source": [
    "There is no skewness in the dataset."
   ]
  },
  {
   "cell_type": "code",
   "execution_count": 206,
   "id": "024ebd94",
   "metadata": {},
   "outputs": [
    {
     "data": {
      "image/png": "[encoded data removed]",
      "text/plain": [
       "<Figure size 720x576 with 4 Axes>"
      ]
     },
     "metadata": {
      "needs_background": "light"
     },
     "output_type": "display_data"
    }
   ],
   "source": [
    "plt.figure(figsize=(10,8))\n",
    "pltno=1\n",
    "for col in df.columns:\n",
    "    ax=plt.subplot(2,2,pltno)\n",
    "    sns.boxplot(df[col])\n",
    "    pltno+=1\n",
    "plt.show()"
   ]
  },
  {
   "cell_type": "markdown",
   "id": "62cdff2f",
   "metadata": {},
   "source": [
    "There are 2 outliers in newspaper."
   ]
  },
  {
   "cell_type": "code",
   "execution_count": 212,
   "id": "3df03b9a",
   "metadata": {},
   "outputs": [],
   "source": [
    "q1=df.quantile(0.25)\n",
    "q3=df.quantile(0.75)\n",
    "iqr=q3-q1"
   ]
  },
  {
   "cell_type": "code",
   "execution_count": 213,
   "id": "d65062d4",
   "metadata": {},
   "outputs": [
    {
     "data": {
      "text/html": [
       "<div>\n",
       "<style scoped>\n",
       "    .dataframe tbody tr th:only-of-type {\n",
       "        vertical-align: middle;\n",
       "    }\n",
       "\n",
       "    .dataframe tbody tr th {\n",
       "        vertical-align: top;\n",
       "    }\n",
       "\n",
       "    .dataframe thead th {\n",
       "        text-align: right;\n",
       "    }\n",
       "</style>\n",
       "<table border=\"1\" class=\"dataframe\">\n",
       "  <thead>\n",
       "    <tr style=\"text-align: right;\">\n",
       "      <th></th>\n",
       "      <th>TV</th>\n",
       "      <th>radio</th>\n",
       "      <th>newspaper</th>\n",
       "      <th>sales</th>\n",
       "    </tr>\n",
       "  </thead>\n",
       "  <tbody>\n",
       "    <tr>\n",
       "      <th>0</th>\n",
       "      <td>230.1</td>\n",
       "      <td>37.8</td>\n",
       "      <td>69.2</td>\n",
       "      <td>22.1</td>\n",
       "    </tr>\n",
       "    <tr>\n",
       "      <th>1</th>\n",
       "      <td>44.5</td>\n",
       "      <td>39.3</td>\n",
       "      <td>45.1</td>\n",
       "      <td>10.4</td>\n",
       "    </tr>\n",
       "    <tr>\n",
       "      <th>2</th>\n",
       "      <td>17.2</td>\n",
       "      <td>45.9</td>\n",
       "      <td>69.3</td>\n",
       "      <td>9.3</td>\n",
       "    </tr>\n",
       "    <tr>\n",
       "      <th>3</th>\n",
       "      <td>151.5</td>\n",
       "      <td>41.3</td>\n",
       "      <td>58.5</td>\n",
       "      <td>18.5</td>\n",
       "    </tr>\n",
       "    <tr>\n",
       "      <th>4</th>\n",
       "      <td>180.8</td>\n",
       "      <td>10.8</td>\n",
       "      <td>58.4</td>\n",
       "      <td>12.9</td>\n",
       "    </tr>\n",
       "    <tr>\n",
       "      <th>...</th>\n",
       "      <td>...</td>\n",
       "      <td>...</td>\n",
       "      <td>...</td>\n",
       "      <td>...</td>\n",
       "    </tr>\n",
       "    <tr>\n",
       "      <th>195</th>\n",
       "      <td>38.2</td>\n",
       "      <td>3.7</td>\n",
       "      <td>13.8</td>\n",
       "      <td>7.6</td>\n",
       "    </tr>\n",
       "    <tr>\n",
       "      <th>196</th>\n",
       "      <td>94.2</td>\n",
       "      <td>4.9</td>\n",
       "      <td>8.1</td>\n",
       "      <td>9.7</td>\n",
       "    </tr>\n",
       "    <tr>\n",
       "      <th>197</th>\n",
       "      <td>177.0</td>\n",
       "      <td>9.3</td>\n",
       "      <td>6.4</td>\n",
       "      <td>12.8</td>\n",
       "    </tr>\n",
       "    <tr>\n",
       "      <th>198</th>\n",
       "      <td>283.6</td>\n",
       "      <td>42.0</td>\n",
       "      <td>66.2</td>\n",
       "      <td>25.5</td>\n",
       "    </tr>\n",
       "    <tr>\n",
       "      <th>199</th>\n",
       "      <td>232.1</td>\n",
       "      <td>8.6</td>\n",
       "      <td>8.7</td>\n",
       "      <td>13.4</td>\n",
       "    </tr>\n",
       "  </tbody>\n",
       "</table>\n",
       "<p>198 rows × 4 columns</p>\n",
       "</div>"
      ],
      "text/plain": [
       "        TV  radio  newspaper  sales\n",
       "0    230.1   37.8       69.2   22.1\n",
       "1     44.5   39.3       45.1   10.4\n",
       "2     17.2   45.9       69.3    9.3\n",
       "3    151.5   41.3       58.5   18.5\n",
       "4    180.8   10.8       58.4   12.9\n",
       "..     ...    ...        ...    ...\n",
       "195   38.2    3.7       13.8    7.6\n",
       "196   94.2    4.9        8.1    9.7\n",
       "197  177.0    9.3        6.4   12.8\n",
       "198  283.6   42.0       66.2   25.5\n",
       "199  232.1    8.6        8.7   13.4\n",
       "\n",
       "[198 rows x 4 columns]"
      ]
     },
     "execution_count": 213,
     "metadata": {},
     "output_type": "execute_result"
    }
   ],
   "source": [
    "news_high=q3.newspaper+(1.5*iqr.newspaper)\n",
    "index=np.where(df['newspaper']>news_high)\n",
    "df=df.drop(df.index[index])\n",
    "df"
   ]
  },
  {
   "cell_type": "code",
   "execution_count": 214,
   "id": "22eca71f",
   "metadata": {},
   "outputs": [
    {
     "data": {
      "image/png": "[encoded data removed]",
      "text/plain": [
       "<Figure size 720x576 with 4 Axes>"
      ]
     },
     "metadata": {
      "needs_background": "light"
     },
     "output_type": "display_data"
    }
   ],
   "source": [
    "plt.figure(figsize=(10,8))\n",
    "pltno=1\n",
    "for col in df.columns:\n",
    "    ax=plt.subplot(2,2,pltno)\n",
    "    sns.boxplot(df[col])\n",
    "    pltno+=1\n",
    "plt.show()"
   ]
  },
  {
   "cell_type": "markdown",
   "id": "eb93bd7e",
   "metadata": {},
   "source": [
    "We removed the outliers."
   ]
  },
  {
   "cell_type": "markdown",
   "id": "3915a201",
   "metadata": {},
   "source": [
    "Spliting the feature and target variables."
   ]
  },
  {
   "cell_type": "code",
   "execution_count": 215,
   "id": "9fb95358",
   "metadata": {},
   "outputs": [],
   "source": [
    "X=df.drop(['sales'],axis=1)\n",
    "y=df['sales']"
   ]
  },
  {
   "cell_type": "code",
   "execution_count": 216,
   "id": "715aa4e3",
   "metadata": {},
   "outputs": [],
   "source": [
    "from sklearn.preprocessing import StandardScaler\n",
    "from sklearn.linear_model import LinearRegression\n",
    "from sklearn.model_selection import cross_val_score\n",
    "from sklearn.metrics import r2_score,mean_squared_error,mean_absolute_error"
   ]
  },
  {
   "cell_type": "markdown",
   "id": "cd61752b",
   "metadata": {},
   "source": [
    "Scaling the feature values to standard scale."
   ]
  },
  {
   "cell_type": "code",
   "execution_count": 231,
   "id": "ed7a0185",
   "metadata": {},
   "outputs": [],
   "source": [
    "X_sc=StandardScaler().fit_transform(X)"
   ]
  },
  {
   "cell_type": "markdown",
   "id": "f9c09297",
   "metadata": {},
   "source": [
    "### Building base model to find the best Random state"
   ]
  },
  {
   "cell_type": "code",
   "execution_count": 232,
   "id": "46a468b2",
   "metadata": {},
   "outputs": [
    {
     "name": "stdout",
     "output_type": "stream",
     "text": [
      "Accuracy:  0.9477136584598764 RS:  90\n"
     ]
    }
   ],
   "source": [
    "m_acc=0\n",
    "b_rs=0\n",
    "for i in range(1,200):\n",
    "    lr=LinearRegression()\n",
    "    X_train,X_test,y_train,y_test=train_test_split(X_sc,y,test_size=0.2,random_state=i)\n",
    "    lr.fit(X_train,y_train)\n",
    "    y_pred=lr.predict(X_test)\n",
    "    acc=r2_score(y_test,y_pred)\n",
    "    if(acc>m_acc):\n",
    "        m_acc=acc\n",
    "        b_rs=i\n",
    "print('Accuracy: ',m_acc,'RS: ',b_rs)"
   ]
  },
  {
   "cell_type": "markdown",
   "id": "a3abaeb3",
   "metadata": {},
   "source": [
    "spliting the data as train and test using the best Random State found."
   ]
  },
  {
   "cell_type": "code",
   "execution_count": 233,
   "id": "47804845",
   "metadata": {},
   "outputs": [],
   "source": [
    "X_train,X_test,y_train,y_test=train_test_split(X_sc,y,test_size=0.2,random_state=90)"
   ]
  },
  {
   "cell_type": "code",
   "execution_count": 234,
   "id": "dfa20e1b",
   "metadata": {},
   "outputs": [],
   "source": [
    "from sklearn.ensemble import RandomForestRegressor\n",
    "from sklearn.neighbors import KNeighborsRegressor\n",
    "from sklearn.ensemble import AdaBoostRegressor"
   ]
  },
  {
   "cell_type": "markdown",
   "id": "25594391",
   "metadata": {},
   "source": [
    "initializing the models"
   ]
  },
  {
   "cell_type": "code",
   "execution_count": 236,
   "id": "9aa763ee",
   "metadata": {},
   "outputs": [],
   "source": [
    "rf=RandomForestRegressor()\n",
    "kn=KNeighborsRegressor()\n",
    "ad=AdaBoostRegressor()\n",
    "lr=LinearRegression()"
   ]
  },
  {
   "cell_type": "markdown",
   "id": "6f851a9c",
   "metadata": {},
   "source": [
    "#### Building the base models and model selection"
   ]
  },
  {
   "cell_type": "code",
   "execution_count": 237,
   "id": "a52b5952",
   "metadata": {},
   "outputs": [
    {
     "name": "stdout",
     "output_type": "stream",
     "text": [
      "Mestrics for  RandomForestRegressor()\n",
      "Accuracy: 0.9819181383638619\n",
      "MAE:  0.6227500000000002\n",
      "MSE:  0.5451066500000008 \n",
      "\n",
      "Mestrics for  KNeighborsRegressor()\n",
      "Accuracy: 0.94138277616713\n",
      "MAE:  0.9284999999999999\n",
      "MSE:  1.7671099999999993 \n",
      "\n",
      "Mestrics for  AdaBoostRegressor()\n",
      "Accuracy: 0.9562446471307846\n",
      "MAE:  0.9157136398723438\n",
      "MSE:  1.3190751208070872 \n",
      "\n",
      "Mestrics for  LinearRegression()\n",
      "Accuracy: 0.9477136584598764\n",
      "MAE:  1.0231352276209502\n",
      "MSE:  1.5762554238734887 \n",
      "\n"
     ]
    }
   ],
   "source": [
    "models=[rf,kn,ad,lr]\n",
    "for m in models:\n",
    "    m.fit(X_train,y_train)\n",
    "    y_pred=m.predict(X_test)\n",
    "    print('Mestrics for ',m)\n",
    "    print('Accuracy:',r2_score(y_test,y_pred))\n",
    "    print('MAE: ',mean_absolute_error(y_test,y_pred))\n",
    "    print('MSE: ',mean_squared_error(y_test,y_pred),'\\n')"
   ]
  },
  {
   "cell_type": "markdown",
   "id": "358cd36c",
   "metadata": {},
   "source": [
    "### Cross validation"
   ]
  },
  {
   "cell_type": "code",
   "execution_count": 239,
   "id": "39e922b6",
   "metadata": {},
   "outputs": [
    {
     "name": "stdout",
     "output_type": "stream",
     "text": [
      "Cross val score for  RandomForestRegressor() : 0.6930759204637968\n",
      "Cross val score for  KNeighborsRegressor() : 0.8264263257124987\n",
      "Cross val score for  AdaBoostRegressor() : 0.7635425179309847\n",
      "Cross val score for  LinearRegression() : 0.8424569032270461\n"
     ]
    }
   ],
   "source": [
    "for m in models:\n",
    "    print('Cross val score for ',m,':',cross_val_score(m,X_test,y_test,cv=5).mean())"
   ]
  },
  {
   "cell_type": "markdown",
   "id": "f0e048aa",
   "metadata": {},
   "source": [
    "From above metrics, Linear Regression model works better for our dataset."
   ]
  },
  {
   "cell_type": "markdown",
   "id": "42112703",
   "metadata": {},
   "source": [
    "## Regularization"
   ]
  },
  {
   "cell_type": "code",
   "execution_count": 240,
   "id": "e6a17e39",
   "metadata": {},
   "outputs": [
    {
     "name": "stdout",
     "output_type": "stream",
     "text": [
      "0.1\n"
     ]
    }
   ],
   "source": [
    "from sklearn.linear_model import RidgeCV,Ridge\n",
    "rdg_cv=RidgeCV(alphas=(0.01,0.1, 1.0))\n",
    "rdg_cv.fit(X_train,y_train)\n",
    "print(rdg_cv.alpha_)"
   ]
  },
  {
   "cell_type": "code",
   "execution_count": 241,
   "id": "5c9438e0",
   "metadata": {},
   "outputs": [
    {
     "name": "stdout",
     "output_type": "stream",
     "text": [
      "Training accuracy:  0.87915393342308\n",
      "Mestrics for  Ridge(alpha=0.1)\n",
      "Accuracy: 0.9476312959159872\n",
      "MSE:  1.5787383745391033 \n",
      "\n"
     ]
    }
   ],
   "source": [
    "rdg=Ridge(alpha=0.1)\n",
    "rdg.fit(X_train,y_train)\n",
    "print(\"Training accuracy: \",rdg.score(X_train,y_train))\n",
    "y_pred=rdg.predict(X_test)\n",
    "print('Mestrics for ',rdg)\n",
    "print('Accuracy:',r2_score(y_test,y_pred))\n",
    "print('MSE: ',mean_squared_error(y_test,y_pred),'\\n')"
   ]
  },
  {
   "cell_type": "markdown",
   "id": "ab60e32d",
   "metadata": {},
   "source": [
    "Ridge Regularization shows that our LinerRegression model is not overfitting neither underfitting."
   ]
  },
  {
   "cell_type": "markdown",
   "id": "c56ff766",
   "metadata": {},
   "source": [
    "### Final Model"
   ]
  },
  {
   "cell_type": "code",
   "execution_count": 243,
   "id": "0b194190",
   "metadata": {},
   "outputs": [
    {
     "name": "stdout",
     "output_type": "stream",
     "text": [
      "Training accuracy:  0.8791542940797823\n",
      "Mestrics for  LinearRegression()\n",
      "Accuracy: 0.9477136584598764\n",
      "MAE:  1.0231352276209502\n",
      "MSE:  1.5762554238734887 \n",
      "\n"
     ]
    }
   ],
   "source": [
    "lr=LinearRegression()\n",
    "lr.fit(X_train,y_train)\n",
    "print(\"Training accuracy: \",lr.score(X_train,y_train))\n",
    "y_pred=lr.predict(X_test)\n",
    "print('Mestrics for ',lr)\n",
    "print('Accuracy:',r2_score(y_test,y_pred))\n",
    "print('MAE: ',mean_absolute_error(y_test,y_pred))\n",
    "print('MSE: ',mean_squared_error(y_test,y_pred),'\\n')"
   ]
  },
  {
   "cell_type": "markdown",
   "id": "07e02232",
   "metadata": {},
   "source": [
    "Our final model able to provide 95% of accuracy score."
   ]
  },
  {
   "cell_type": "code",
   "execution_count": 245,
   "id": "951f6bc7",
   "metadata": {},
   "outputs": [
    {
     "data": {
      "image/png": "[encoded data removed]",
      "text/plain": [
       "<Figure size 288x288 with 1 Axes>"
      ]
     },
     "metadata": {
      "needs_background": "light"
     },
     "output_type": "display_data"
    }
   ],
   "source": [
    "plt.figure(figsize=(4,4))\n",
    "plt.scatter(x=y_test,y=y_pred,color='b')\n",
    "plt.plot(y_pred,y_pred,color='r')\n",
    "plt.xlabel('Actual')\n",
    "plt.ylabel('Predicted')\n",
    "plt.title('Linear Model')\n",
    "plt.show()"
   ]
  },
  {
   "cell_type": "markdown",
   "id": "cfc121cb",
   "metadata": {},
   "source": [
    "#### Saving the model"
   ]
  },
  {
   "cell_type": "markdown",
   "id": "287dc908",
   "metadata": {},
   "source": [
    "importing pickle and saving the model"
   ]
  },
  {
   "cell_type": "code",
   "execution_count": 247,
   "id": "bde0f4fb",
   "metadata": {},
   "outputs": [],
   "source": [
    "import pickle\n",
    "pickle.dump(lr,open('C:/Users/yn/Desktop/Yuvi/DataTrained/Saved Models- Practice Projects/AdvertisingSalesChannelPrediction.pkl','wb'))"
   ]
  },
  {
   "cell_type": "markdown",
   "id": "cc6e8b8d",
   "metadata": {},
   "source": [
    "Loading the saved model"
   ]
  },
  {
   "cell_type": "code",
   "execution_count": 249,
   "id": "62c3ea3a",
   "metadata": {},
   "outputs": [],
   "source": [
    "final_model=pickle.load(open('C:/Users/yn/Desktop/Yuvi/DataTrained/Saved Models- Practice Projects/AdvertisingSalesChannelPrediction.pkl','rb'))"
   ]
  },
  {
   "cell_type": "markdown",
   "id": "2a54a6d9",
   "metadata": {},
   "source": [
    "Predicting using the loaded model"
   ]
  },
  {
   "cell_type": "code",
   "execution_count": 250,
   "id": "467a0bb2",
   "metadata": {},
   "outputs": [
    {
     "data": {
      "text/html": [
       "<div>\n",
       "<style scoped>\n",
       "    .dataframe tbody tr th:only-of-type {\n",
       "        vertical-align: middle;\n",
       "    }\n",
       "\n",
       "    .dataframe tbody tr th {\n",
       "        vertical-align: top;\n",
       "    }\n",
       "\n",
       "    .dataframe thead th {\n",
       "        text-align: right;\n",
       "    }\n",
       "</style>\n",
       "<table border=\"1\" class=\"dataframe\">\n",
       "  <thead>\n",
       "    <tr style=\"text-align: right;\">\n",
       "      <th></th>\n",
       "      <th>Actual</th>\n",
       "      <th>Predicted</th>\n",
       "    </tr>\n",
       "  </thead>\n",
       "  <tbody>\n",
       "    <tr>\n",
       "      <th>163</th>\n",
       "      <td>18.0</td>\n",
       "      <td>17.0</td>\n",
       "    </tr>\n",
       "    <tr>\n",
       "      <th>22</th>\n",
       "      <td>6.0</td>\n",
       "      <td>7.0</td>\n",
       "    </tr>\n",
       "    <tr>\n",
       "      <th>69</th>\n",
       "      <td>22.0</td>\n",
       "      <td>21.0</td>\n",
       "    </tr>\n",
       "    <tr>\n",
       "      <th>193</th>\n",
       "      <td>20.0</td>\n",
       "      <td>18.0</td>\n",
       "    </tr>\n",
       "    <tr>\n",
       "      <th>40</th>\n",
       "      <td>17.0</td>\n",
       "      <td>16.0</td>\n",
       "    </tr>\n",
       "    <tr>\n",
       "      <th>93</th>\n",
       "      <td>22.0</td>\n",
       "      <td>21.0</td>\n",
       "    </tr>\n",
       "    <tr>\n",
       "      <th>39</th>\n",
       "      <td>22.0</td>\n",
       "      <td>20.0</td>\n",
       "    </tr>\n",
       "    <tr>\n",
       "      <th>146</th>\n",
       "      <td>13.0</td>\n",
       "      <td>15.0</td>\n",
       "    </tr>\n",
       "    <tr>\n",
       "      <th>15</th>\n",
       "      <td>22.0</td>\n",
       "      <td>21.0</td>\n",
       "    </tr>\n",
       "    <tr>\n",
       "      <th>72</th>\n",
       "      <td>9.0</td>\n",
       "      <td>10.0</td>\n",
       "    </tr>\n",
       "    <tr>\n",
       "      <th>84</th>\n",
       "      <td>22.0</td>\n",
       "      <td>21.0</td>\n",
       "    </tr>\n",
       "    <tr>\n",
       "      <th>36</th>\n",
       "      <td>25.0</td>\n",
       "      <td>23.0</td>\n",
       "    </tr>\n",
       "    <tr>\n",
       "      <th>157</th>\n",
       "      <td>10.0</td>\n",
       "      <td>10.0</td>\n",
       "    </tr>\n",
       "    <tr>\n",
       "      <th>42</th>\n",
       "      <td>21.0</td>\n",
       "      <td>21.0</td>\n",
       "    </tr>\n",
       "    <tr>\n",
       "      <th>17</th>\n",
       "      <td>24.0</td>\n",
       "      <td>23.0</td>\n",
       "    </tr>\n",
       "    <tr>\n",
       "      <th>121</th>\n",
       "      <td>7.0</td>\n",
       "      <td>8.0</td>\n",
       "    </tr>\n",
       "    <tr>\n",
       "      <th>83</th>\n",
       "      <td>14.0</td>\n",
       "      <td>14.0</td>\n",
       "    </tr>\n",
       "    <tr>\n",
       "      <th>1</th>\n",
       "      <td>10.0</td>\n",
       "      <td>12.0</td>\n",
       "    </tr>\n",
       "    <tr>\n",
       "      <th>154</th>\n",
       "      <td>16.0</td>\n",
       "      <td>15.0</td>\n",
       "    </tr>\n",
       "    <tr>\n",
       "      <th>6</th>\n",
       "      <td>12.0</td>\n",
       "      <td>12.0</td>\n",
       "    </tr>\n",
       "    <tr>\n",
       "      <th>172</th>\n",
       "      <td>8.0</td>\n",
       "      <td>8.0</td>\n",
       "    </tr>\n",
       "    <tr>\n",
       "      <th>112</th>\n",
       "      <td>14.0</td>\n",
       "      <td>14.0</td>\n",
       "    </tr>\n",
       "    <tr>\n",
       "      <th>135</th>\n",
       "      <td>12.0</td>\n",
       "      <td>14.0</td>\n",
       "    </tr>\n",
       "    <tr>\n",
       "      <th>186</th>\n",
       "      <td>10.0</td>\n",
       "      <td>10.0</td>\n",
       "    </tr>\n",
       "    <tr>\n",
       "      <th>30</th>\n",
       "      <td>21.0</td>\n",
       "      <td>21.0</td>\n",
       "    </tr>\n",
       "    <tr>\n",
       "      <th>167</th>\n",
       "      <td>12.0</td>\n",
       "      <td>13.0</td>\n",
       "    </tr>\n",
       "    <tr>\n",
       "      <th>90</th>\n",
       "      <td>11.0</td>\n",
       "      <td>10.0</td>\n",
       "    </tr>\n",
       "    <tr>\n",
       "      <th>13</th>\n",
       "      <td>10.0</td>\n",
       "      <td>9.0</td>\n",
       "    </tr>\n",
       "    <tr>\n",
       "      <th>145</th>\n",
       "      <td>10.0</td>\n",
       "      <td>10.0</td>\n",
       "    </tr>\n",
       "    <tr>\n",
       "      <th>111</th>\n",
       "      <td>22.0</td>\n",
       "      <td>21.0</td>\n",
       "    </tr>\n",
       "    <tr>\n",
       "      <th>197</th>\n",
       "      <td>13.0</td>\n",
       "      <td>13.0</td>\n",
       "    </tr>\n",
       "    <tr>\n",
       "      <th>29</th>\n",
       "      <td>10.0</td>\n",
       "      <td>9.0</td>\n",
       "    </tr>\n",
       "    <tr>\n",
       "      <th>184</th>\n",
       "      <td>18.0</td>\n",
       "      <td>18.0</td>\n",
       "    </tr>\n",
       "    <tr>\n",
       "      <th>56</th>\n",
       "      <td>6.0</td>\n",
       "      <td>9.0</td>\n",
       "    </tr>\n",
       "    <tr>\n",
       "      <th>196</th>\n",
       "      <td>10.0</td>\n",
       "      <td>8.0</td>\n",
       "    </tr>\n",
       "    <tr>\n",
       "      <th>80</th>\n",
       "      <td>12.0</td>\n",
       "      <td>11.0</td>\n",
       "    </tr>\n",
       "    <tr>\n",
       "      <th>24</th>\n",
       "      <td>10.0</td>\n",
       "      <td>8.0</td>\n",
       "    </tr>\n",
       "    <tr>\n",
       "      <th>177</th>\n",
       "      <td>12.0</td>\n",
       "      <td>12.0</td>\n",
       "    </tr>\n",
       "    <tr>\n",
       "      <th>89</th>\n",
       "      <td>17.0</td>\n",
       "      <td>17.0</td>\n",
       "    </tr>\n",
       "    <tr>\n",
       "      <th>150</th>\n",
       "      <td>16.0</td>\n",
       "      <td>18.0</td>\n",
       "    </tr>\n",
       "  </tbody>\n",
       "</table>\n",
       "</div>"
      ],
      "text/plain": [
       "     Actual  Predicted\n",
       "163    18.0       17.0\n",
       "22      6.0        7.0\n",
       "69     22.0       21.0\n",
       "193    20.0       18.0\n",
       "40     17.0       16.0\n",
       "93     22.0       21.0\n",
       "39     22.0       20.0\n",
       "146    13.0       15.0\n",
       "15     22.0       21.0\n",
       "72      9.0       10.0\n",
       "84     22.0       21.0\n",
       "36     25.0       23.0\n",
       "157    10.0       10.0\n",
       "42     21.0       21.0\n",
       "17     24.0       23.0\n",
       "121     7.0        8.0\n",
       "83     14.0       14.0\n",
       "1      10.0       12.0\n",
       "154    16.0       15.0\n",
       "6      12.0       12.0\n",
       "172     8.0        8.0\n",
       "112    14.0       14.0\n",
       "135    12.0       14.0\n",
       "186    10.0       10.0\n",
       "30     21.0       21.0\n",
       "167    12.0       13.0\n",
       "90     11.0       10.0\n",
       "13     10.0        9.0\n",
       "145    10.0       10.0\n",
       "111    22.0       21.0\n",
       "197    13.0       13.0\n",
       "29     10.0        9.0\n",
       "184    18.0       18.0\n",
       "56      6.0        9.0\n",
       "196    10.0        8.0\n",
       "80     12.0       11.0\n",
       "24     10.0        8.0\n",
       "177    12.0       12.0\n",
       "89     17.0       17.0\n",
       "150    16.0       18.0"
      ]
     },
     "execution_count": 250,
     "metadata": {},
     "output_type": "execute_result"
    }
   ],
   "source": [
    "y_pred=final_model.predict(X_test)\n",
    "result_set=pd.DataFrame({'Actual':np.round(y_test),'Predicted':np.round(y_pred)})\n",
    "result_set"
   ]
  },
  {
   "cell_type": "code",
   "execution_count": null,
   "id": "9e4948d0",
   "metadata": {},
   "outputs": [],
   "source": []
  },
  {
   "cell_type": "code",
   "execution_count": null,
   "id": "f3f301b8",
   "metadata": {},
   "outputs": [],
   "source": []
  }
 ],
 "metadata": {
  "kernelspec": {
   "display_name": "Python 3",
   "language": "python",
   "name": "python3"
  },
  "language_info": {
   "codemirror_mode": {
    "name": "ipython",
    "version": 3
   },
   "file_extension": ".py",
   "mimetype": "text/x-python",
   "name": "python",
   "nbconvert_exporter": "python",
   "pygments_lexer": "ipython3",
   "version": "3.8.8"
  }
 },
 "nbformat": 4,
 "nbformat_minor": 5
}
